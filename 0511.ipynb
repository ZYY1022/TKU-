{
  "nbformat": 4,
  "nbformat_minor": 0,
  "metadata": {
    "colab": {
      "name": "0511.ipynb",
      "provenance": [],
      "authorship_tag": "ABX9TyMZeX5Qo0PfYAPoeCK+i05a",
      "include_colab_link": true
    },
    "kernelspec": {
      "name": "python3",
      "display_name": "Python 3"
    },
    "language_info": {
      "name": "python"
    }
  },
  "cells": [
    {
      "cell_type": "markdown",
      "metadata": {
        "id": "view-in-github",
        "colab_type": "text"
      },
      "source": [
        "<a href=\"https://colab.research.google.com/github/ZYY1022/TKU-/blob/main/0511.ipynb\" target=\"_parent\"><img src=\"https://colab.research.google.com/assets/colab-badge.svg\" alt=\"Open In Colab\"/></a>"
      ]
    },
    {
      "cell_type": "code",
      "execution_count": 6,
      "metadata": {
        "colab": {
          "base_uri": "https://localhost:8080/"
        },
        "id": "D-33JkGvXPYb",
        "outputId": "f17cad2e-97da-4181-c806-66bd58cffec4"
      },
      "outputs": [
        {
          "output_type": "stream",
          "name": "stdout",
          "text": [
            "請輸入你的體溫36\n",
            "體溫正常\n"
          ]
        }
      ],
      "source": [
        "temp = float(input('請輸入你的體溫'))\n",
        "if temp >= 37.5:\n",
        "   print('體溫過高')\n",
        "elif temp >= 37 and temp <37.4:\n",
        "   print('體溫略高')\n",
        "elif temp >= 34 and temp <36.9:\n",
        "   print('體溫正常')\n",
        "else:\n",
        "   print('體溫異常，請重新測量')"
      ]
    },
    {
      "cell_type": "code",
      "source": [
        "money = int(input('請輸入購物金額:'))\n",
        "if (money >= 10000):\n",
        "  if (money >= 100000):\n",
        "    print('八折',money * 0.8,end = '元\\n')\n",
        "  elif (money >= 50000):\n",
        "    print('八五折',money * 0.85,end = '元\\n')\n",
        "  elif (money >= 30000):\n",
        "    print('九折',money * 0.9,end = '元\\n')\n",
        "  elif (money >= 10000):\n",
        "    print('九五折',money * 0.95,end = '元\\n')\n",
        "else:\n",
        "  print('沒打折', money , end = '元\\n')\n"
      ],
      "metadata": {
        "colab": {
          "base_uri": "https://localhost:8080/",
          "height": 237
        },
        "id": "e6yg9cFAZWrG",
        "outputId": "b177f84e-af41-4512-b193-4c482f88facc"
      },
      "execution_count": 10,
      "outputs": [
        {
          "output_type": "error",
          "ename": "TypeError",
          "evalue": "ignored",
          "traceback": [
            "\u001b[0;31m---------------------------------------------------------------------------\u001b[0m",
            "\u001b[0;31mTypeError\u001b[0m                                 Traceback (most recent call last)",
            "\u001b[0;32m<ipython-input-10-163bced1d3ef>\u001b[0m in \u001b[0;36m<module>\u001b[0;34m()\u001b[0m\n\u001b[0;32m----> 1\u001b[0;31m \u001b[0mmoney\u001b[0m \u001b[0;34m=\u001b[0m \u001b[0mint\u001b[0m\u001b[0;34m(\u001b[0m\u001b[0minput\u001b[0m\u001b[0;34m(\u001b[0m\u001b[0;34m'請輸入購物金額:'\u001b[0m\u001b[0;34m,\u001b[0m\u001b[0;34m'元'\u001b[0m\u001b[0;34m)\u001b[0m\u001b[0;34m)\u001b[0m\u001b[0;34m\u001b[0m\u001b[0;34m\u001b[0m\u001b[0m\n\u001b[0m\u001b[1;32m      2\u001b[0m \u001b[0;32mif\u001b[0m \u001b[0;34m(\u001b[0m\u001b[0mmoney\u001b[0m \u001b[0;34m>=\u001b[0m \u001b[0;36m10000\u001b[0m\u001b[0;34m)\u001b[0m\u001b[0;34m:\u001b[0m\u001b[0;34m\u001b[0m\u001b[0;34m\u001b[0m\u001b[0m\n\u001b[1;32m      3\u001b[0m   \u001b[0;32mif\u001b[0m \u001b[0;34m(\u001b[0m\u001b[0mmoney\u001b[0m \u001b[0;34m>=\u001b[0m \u001b[0;36m100000\u001b[0m\u001b[0;34m)\u001b[0m\u001b[0;34m:\u001b[0m\u001b[0;34m\u001b[0m\u001b[0;34m\u001b[0m\u001b[0m\n\u001b[1;32m      4\u001b[0m     \u001b[0mprint\u001b[0m\u001b[0;34m(\u001b[0m\u001b[0;34m'八折'\u001b[0m\u001b[0;34m,\u001b[0m\u001b[0mmoney\u001b[0m \u001b[0;34m*\u001b[0m \u001b[0;36m0.8\u001b[0m\u001b[0;34m,\u001b[0m\u001b[0mend\u001b[0m \u001b[0;34m=\u001b[0m \u001b[0;34m'元\\n'\u001b[0m\u001b[0;34m)\u001b[0m\u001b[0;34m\u001b[0m\u001b[0;34m\u001b[0m\u001b[0m\n\u001b[1;32m      5\u001b[0m   \u001b[0;32melif\u001b[0m \u001b[0;34m(\u001b[0m\u001b[0mmoney\u001b[0m \u001b[0;34m>=\u001b[0m \u001b[0;36m50000\u001b[0m\u001b[0;34m)\u001b[0m\u001b[0;34m:\u001b[0m\u001b[0;34m\u001b[0m\u001b[0;34m\u001b[0m\u001b[0m\n",
            "\u001b[0;31mTypeError\u001b[0m: raw_input() takes from 1 to 2 positional arguments but 3 were given"
          ]
        }
      ]
    },
    {
      "cell_type": "code",
      "source": [
        "test1 = int(input('請輸入成績'))\n",
        "if (test1 >= 90):\n",
        "  print('A')\n",
        "elif (test1 >= 80):\n",
        "  print('B')\n",
        "elif (test1 >= 70):\n",
        "  print('C')\n",
        "elif (test1 >= 60):\n",
        "  print('D')\n",
        "elif (test1 < 60):\n",
        "  print('E')"
      ],
      "metadata": {
        "colab": {
          "base_uri": "https://localhost:8080/"
        },
        "id": "1nX7Vl5DZXOb",
        "outputId": "f0cbc00e-be9a-4c4e-984f-83e791ac27ac"
      },
      "execution_count": 8,
      "outputs": [
        {
          "output_type": "stream",
          "name": "stdout",
          "text": [
            "請輸入成績50\n",
            "E\n"
          ]
        }
      ]
    },
    {
      "cell_type": "code",
      "source": [
        "season = int(input('請輸入月份'))\n",
        "if (season = 3 or season = 4 or season = 5)\n",
        "  print(season ,'月是春天',sep = '')\n",
        "elif (season = 6 or season = 7 or season = 8)\n",
        "  print(season ,'月是夏天',sep = '')\n",
        "elif (season = 9 or season = 10 or season = 11)\n",
        "  print(season ,'月是秋天',sep = '')\n",
        "elif (season = 12 or season = 1 or season = 2)\n",
        "  print(season ,'月是冬天',sep = '')\n",
        "else:\n",
        "  print('月份不再範圍內')"
      ],
      "metadata": {
        "colab": {
          "base_uri": "https://localhost:8080/",
          "height": 133
        },
        "id": "T2-Ao1veZXnB",
        "outputId": "a288bb5e-8227-4b65-e144-531d75abd67b"
      },
      "execution_count": 4,
      "outputs": [
        {
          "output_type": "error",
          "ename": "SyntaxError",
          "evalue": "ignored",
          "traceback": [
            "\u001b[0;36m  File \u001b[0;32m\"<ipython-input-4-7f740d31aa13>\"\u001b[0;36m, line \u001b[0;32m2\u001b[0m\n\u001b[0;31m    if (season == 3 or season == 4 or season == 5)\u001b[0m\n\u001b[0m                                                  ^\u001b[0m\n\u001b[0;31mSyntaxError\u001b[0m\u001b[0;31m:\u001b[0m invalid syntax\n"
          ]
        }
      ]
    },
    {
      "cell_type": "code",
      "source": [
        "earn = int(input('請輸入今年輸入淨額:'))\n",
        "if (earn >=2000000)\n",
        " print('賦稅金額',earn * 0.3, '元',sep = '')\n",
        "elif (earn >=1000000)\n",
        " print('賦稅金額',earn * 0.21, '元',sep = '')\n",
        "elif (earn >=600000)\n",
        " print('賦稅金額',earn * 0.13, '元',sep = '')\n",
        "elif (earn >=300000)\n",
        " print('賦稅金額',earn * 0.06, '元',sep = '')\n",
        "else:\n",
        " print('賦稅金額',earn * 0, '元',sep = '')"
      ],
      "metadata": {
        "colab": {
          "base_uri": "https://localhost:8080/",
          "height": 133
        },
        "id": "U-2xDy_z8k5e",
        "outputId": "2b87efae-87f6-41ab-f700-a3f65e83de66"
      },
      "execution_count": 6,
      "outputs": [
        {
          "output_type": "error",
          "ename": "SyntaxError",
          "evalue": "ignored",
          "traceback": [
            "\u001b[0;36m  File \u001b[0;32m\"<ipython-input-6-18d87406fead>\"\u001b[0;36m, line \u001b[0;32m2\u001b[0m\n\u001b[0;31m    if (earn >=2000000)\u001b[0m\n\u001b[0m                       ^\u001b[0m\n\u001b[0;31mSyntaxError\u001b[0m\u001b[0;31m:\u001b[0m invalid syntax\n"
          ]
        }
      ]
    }
  ]
}