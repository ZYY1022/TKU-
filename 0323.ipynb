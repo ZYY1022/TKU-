{
  "nbformat": 4,
  "nbformat_minor": 0,
  "metadata": {
    "colab": {
      "name": "0323.ipynb",
      "provenance": [],
      "authorship_tag": "ABX9TyPzoGEm8uyyvc0JY5KHYDJz",
      "include_colab_link": true
    },
    "kernelspec": {
      "name": "python3",
      "display_name": "Python 3"
    },
    "language_info": {
      "name": "python"
    }
  },
  "cells": [
    {
      "cell_type": "markdown",
      "metadata": {
        "id": "view-in-github",
        "colab_type": "text"
      },
      "source": [
        "<a href=\"https://colab.research.google.com/github/ZYY1022/TKU-/blob/main/0323.ipynb\" target=\"_parent\"><img src=\"https://colab.research.google.com/assets/colab-badge.svg\" alt=\"Open In Colab\"/></a>"
      ]
    },
    {
      "cell_type": "code",
      "execution_count": null,
      "metadata": {
        "id": "s7kNOg66If-3",
        "colab": {
          "base_uri": "https://localhost:8080/"
        },
        "outputId": "1f06d029-e27a-42b9-ebe7-d74755014f15"
      },
      "outputs": [
        {
          "output_type": "stream",
          "name": "stdout",
          "text": [
            "1 2 3\n"
          ]
        }
      ],
      "source": [
        "print(1,2,3)"
      ]
    },
    {
      "cell_type": "code",
      "source": [
        "12+3"
      ],
      "metadata": {
        "id": "ScMNasEiKCI4",
        "colab": {
          "base_uri": "https://localhost:8080/"
        },
        "outputId": "52c3c9fc-da50-4418-aaeb-88db74ead017"
      },
      "execution_count": null,
      "outputs": [
        {
          "output_type": "execute_result",
          "data": {
            "text/plain": [
              "15"
            ]
          },
          "metadata": {},
          "execution_count": 2
        }
      ]
    },
    {
      "cell_type": "code",
      "source": [
        "12-3"
      ],
      "metadata": {
        "id": "m0hJPOgNKFf4"
      },
      "execution_count": null,
      "outputs": []
    },
    {
      "cell_type": "code",
      "source": [
        "12*3"
      ],
      "metadata": {
        "id": "bTly-UUEJm0L",
        "colab": {
          "base_uri": "https://localhost:8080/"
        },
        "outputId": "22bb89e8-2fba-4fb7-a370-bbb202111fc6"
      },
      "execution_count": null,
      "outputs": [
        {
          "output_type": "execute_result",
          "data": {
            "text/plain": [
              "36"
            ]
          },
          "metadata": {},
          "execution_count": 3
        }
      ]
    },
    {
      "cell_type": "code",
      "source": [
        "32/5"
      ],
      "metadata": {
        "colab": {
          "base_uri": "https://localhost:8080/"
        },
        "id": "g25k1pKBJphQ",
        "outputId": "7ad2ff86-729d-4b48-fe36-76a1b73bdc12"
      },
      "execution_count": null,
      "outputs": [
        {
          "output_type": "execute_result",
          "data": {
            "text/plain": [
              "6.4"
            ]
          },
          "metadata": {},
          "execution_count": 1
        }
      ]
    },
    {
      "cell_type": "code",
      "source": [
        "32%5"
      ],
      "metadata": {
        "id": "KewtEe1XJunD",
        "outputId": "569a5633-8e47-4a0f-87be-776d912133ab",
        "colab": {
          "base_uri": "https://localhost:8080/"
        }
      },
      "execution_count": null,
      "outputs": [
        {
          "output_type": "execute_result",
          "data": {
            "text/plain": [
              "2"
            ]
          },
          "metadata": {},
          "execution_count": 4
        }
      ]
    },
    {
      "cell_type": "code",
      "source": [
        "32//5"
      ],
      "metadata": {
        "colab": {
          "base_uri": "https://localhost:8080/"
        },
        "id": "IXlkU-d3J03h",
        "outputId": "6b58ae86-e6cb-41fc-c66d-dcb873ef80d2"
      },
      "execution_count": null,
      "outputs": [
        {
          "output_type": "execute_result",
          "data": {
            "text/plain": [
              "6"
            ]
          },
          "metadata": {},
          "execution_count": 5
        }
      ]
    },
    {
      "cell_type": "code",
      "source": [
        "7**2"
      ],
      "metadata": {
        "colab": {
          "base_uri": "https://localhost:8080/"
        },
        "id": "zTpOVIYZJ2PX",
        "outputId": "3a5f0c92-e92c-49df-87f0-48985d4c0c2c"
      },
      "execution_count": null,
      "outputs": [
        {
          "output_type": "execute_result",
          "data": {
            "text/plain": [
              "49"
            ]
          },
          "metadata": {},
          "execution_count": 3
        }
      ]
    },
    {
      "cell_type": "code",
      "source": [
        "7**4"
      ],
      "metadata": {
        "colab": {
          "base_uri": "https://localhost:8080/"
        },
        "id": "mtbfSFiqJ5tS",
        "outputId": "35462571-1c80-44ad-b3ad-88310f4705a9"
      },
      "execution_count": null,
      "outputs": [
        {
          "output_type": "execute_result",
          "data": {
            "text/plain": [
              "2401"
            ]
          },
          "metadata": {},
          "execution_count": 2
        }
      ]
    },
    {
      "cell_type": "code",
      "source": [
        "上底=int(input('請輸入梯形上底長度:'))\n",
        "下底=int(input('請輸入梯形下底長度長度:'))\n",
        "高=int(input('請輸入梯形的高度:'))\n",
        "面積=(上底+下底)*高/2\n",
        "print('梯形上底長度為:',上底,'梯形下底長度為:',下底,'梯形高度為:',高,'梯形面積為:',面積)\n"
      ],
      "metadata": {
        "colab": {
          "base_uri": "https://localhost:8080/"
        },
        "id": "yGFgsor6J8Zk",
        "outputId": "d6d2918a-7079-476f-e111-8d351c9672fa"
      },
      "execution_count": null,
      "outputs": [
        {
          "output_type": "stream",
          "name": "stdout",
          "text": [
            "請輸入梯形上底長度:3\n",
            "請輸入梯形下底長度長度:4\n",
            "請輸入梯形的高度:3\n",
            "梯形上底長度為: 3 梯形下底長度為: 4 梯形高度為: 3 梯形面積為: 10.5\n"
          ]
        }
      ]
    },
    {
      "cell_type": "code",
      "source": [
        "print('梯形上底長度為:%d,梯形下底長度為:%d梯形高度為:%d,梯形面積為:%d'%(上底,下底,高,面積))"
      ],
      "metadata": {
        "colab": {
          "base_uri": "https://localhost:8080/"
        },
        "id": "nxY16z01LbeF",
        "outputId": "18216b8c-8143-48af-fc69-b401714999dc"
      },
      "execution_count": null,
      "outputs": [
        {
          "output_type": "stream",
          "name": "stdout",
          "text": [
            "梯形上底長度為:3,梯形下底長度為:4梯形高度為:3,梯形面積為:10\n"
          ]
        }
      ]
    },
    {
      "cell_type": "code",
      "source": [
        "print('梯形上底長度為:%d,梯形下底長度為:%d梯形高度為:%d,梯形面積為:%0.1f'%(上底,下底,高,面積))"
      ],
      "metadata": {
        "colab": {
          "base_uri": "https://localhost:8080/"
        },
        "outputId": "127dc75a-2e3a-4fc0-d081-80fc7ba9ec1d",
        "id": "o-hLGqfsUJKo"
      },
      "execution_count": null,
      "outputs": [
        {
          "output_type": "stream",
          "name": "stdout",
          "text": [
            "梯形上底長度為:3,梯形下底長度為:4梯形高度為:3,梯形面積為:10.5\n"
          ]
        }
      ]
    },
    {
      "cell_type": "code",
      "source": [
        "a=1.1\n",
        "b=2.02\n",
        "c=3.003"
      ],
      "metadata": {
        "id": "1HNjMCELLvlK"
      },
      "execution_count": null,
      "outputs": []
    },
    {
      "cell_type": "code",
      "source": [
        "print('a=%0.1f,b=%0.2f,c=%0.3f'%(a,b,c))"
      ],
      "metadata": {
        "colab": {
          "base_uri": "https://localhost:8080/",
          "height": 167
        },
        "outputId": "349b83cd-5738-40e5-b7d3-71770050d136",
        "id": "mDM0sh84VCnK"
      },
      "execution_count": null,
      "outputs": [
        {
          "output_type": "error",
          "ename": "NameError",
          "evalue": "ignored",
          "traceback": [
            "\u001b[0;31m---------------------------------------------------------------------------\u001b[0m",
            "\u001b[0;31mNameError\u001b[0m                                 Traceback (most recent call last)",
            "\u001b[0;32m<ipython-input-23-dbe187248112>\u001b[0m in \u001b[0;36m<module>\u001b[0;34m()\u001b[0m\n\u001b[0;32m----> 1\u001b[0;31m \u001b[0mprint\u001b[0m\u001b[0;34m(\u001b[0m\u001b[0;34m'a=%0.1f,b=%0.2f,c=%0.3f'\u001b[0m\u001b[0;34m%\u001b[0m\u001b[0;34m(\u001b[0m\u001b[0ma\u001b[0m\u001b[0;34m,\u001b[0m\u001b[0mb\u001b[0m\u001b[0;34m,\u001b[0m\u001b[0mc\u001b[0m\u001b[0;34m)\u001b[0m\u001b[0;34m)\u001b[0m\u001b[0;34m\u001b[0m\u001b[0;34m\u001b[0m\u001b[0m\n\u001b[0m",
            "\u001b[0;31mNameError\u001b[0m: name 'a' is not defined"
          ]
        }
      ]
    },
    {
      "cell_type": "code",
      "source": [
        "身高=int(input('請輸入您的身高(m):'))\n",
        "體重=int(input('請輸入您的體重(kg):'))\n",
        "BMI=體重/(身高/100)**2\n",
        "print('身高為:',身高,'體重為:',體重,'BMI值為:',BMI)"
      ],
      "metadata": {
        "colab": {
          "base_uri": "https://localhost:8080/"
        },
        "id": "iisi7HtgXM5T",
        "outputId": "9c63637e-a5b7-42b2-bd9c-00268b01af7c"
      },
      "execution_count": null,
      "outputs": [
        {
          "output_type": "stream",
          "name": "stdout",
          "text": [
            "請輸入您的身高(m):164\n",
            "請輸入您的體重(kg):45\n",
            "身高為: 164 體重為: 45 BMI值為: 16.731112433075552\n"
          ]
        }
      ]
    }
  ]
}